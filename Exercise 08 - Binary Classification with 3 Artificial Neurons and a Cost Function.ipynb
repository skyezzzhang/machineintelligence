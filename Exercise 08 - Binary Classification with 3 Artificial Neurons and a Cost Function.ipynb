{
  "cells": [
    {
      "cell_type": "markdown",
      "metadata": {
        "id": "view-in-github",
        "colab_type": "text"
      },
      "source": [
        "<a href=\"https://colab.research.google.com/github/skyezzzhang/machineintelligence/blob/master/Exercise%2008%20-%20Binary%20Classification%20with%203%20Artificial%20Neurons%20and%20a%20Cost%20Function.ipynb\" target=\"_parent\"><img src=\"https://colab.research.google.com/assets/colab-badge.svg\" alt=\"Open In Colab\"/></a>"
      ]
    },
    {
      "cell_type": "code",
      "execution_count": 1,
      "metadata": {
        "id": "MIjY-efhcFek"
      },
      "outputs": [],
      "source": [
        "%config InlineBackend.figure_format = 'retina'\n",
        "import matplotlib.pyplot as plt\n",
        "import numpy as np\n",
        "np.set_printoptions(precision=3)\n",
        "np.set_printoptions(suppress=True)"
      ]
    },
    {
      "cell_type": "markdown",
      "metadata": {
        "id": "sV5YYPTdcFem"
      },
      "source": [
        "### 3-layer neural network"
      ]
    },
    {
      "cell_type": "markdown",
      "metadata": {
        "id": "SFM3XWOacFeo"
      },
      "source": [
        "Our dataset contains several 2D points:"
      ]
    },
    {
      "cell_type": "code",
      "execution_count": 37,
      "metadata": {
        "id": "oBW4mCXScFep"
      },
      "outputs": [],
      "source": [
        "data = np.array([[ 1.2, 0.7],\n",
        "                 [-0.3,-0.5],\n",
        "                 [ 3.0, 0.1],\n",
        "                 [-0.1,-1.0],\n",
        "                 [-0.0, 1.1],\n",
        "                 [ 2.1,-1.3],\n",
        "                 [ 3.1,-1.8],\n",
        "                 [ 1.1,-0.1],\n",
        "                 [ 1.5,-2.2],\n",
        "                 [ 4.0,-1.0]])\n",
        "\n",
        "labels = np.array([  1,\n",
        "                    0,\n",
        "                     1,\n",
        "                    0,\n",
        "                    0,\n",
        "                     1,\n",
        "                    0,\n",
        "                     1,\n",
        "                    0,\n",
        "                    0])"
      ]
    },
    {
      "cell_type": "code",
      "execution_count": 38,
      "metadata": {
        "code_folding": [
          0
        ],
        "id": "4AS5wBpQcFep"
      },
      "outputs": [],
      "source": [
        "def plot_data(data, labels):\n",
        "    fig = plt.figure(figsize=(5,5))\n",
        "    ax = fig.add_subplot(111)\n",
        "    ax.scatter(data[:,0], data[:,1], c=labels, s=50,  cmap=plt.cm.bwr,zorder=50)\n",
        "    nudge = 0.08\n",
        "    for i, d in enumerate(data):\n",
        "        ax.annotate(f'{i}',(d[0]+nudge,d[1]+nudge))\n",
        "    ax.set_aspect('equal', 'datalim')\n",
        "    plt.show()"
      ]
    },
    {
      "cell_type": "code",
      "execution_count": 39,
      "metadata": {
        "colab": {
          "base_uri": "https://localhost:8080/",
          "height": 445
        },
        "id": "Xjs7Vj1ucFeq",
        "outputId": "fd081e51-8a4f-47ae-ca64-701be620096e"
      },
      "outputs": [
        {
          "output_type": "display_data",
          "data": {
            "text/plain": [
              "<Figure size 500x500 with 1 Axes>"
            ],
            "image/png": "[encoded data removed]"
          },
          "metadata": {
            "image/png": {
              "width": 437,
              "height": 428
            }
          }
        }
      ],
      "source": [
        "plot_data(data, labels)"
      ]
    },
    {
      "cell_type": "markdown",
      "metadata": {
        "id": "ho3nDDpccFeq"
      },
      "source": [
        "This is the neural network's architecture:"
      ]
    },
    {
      "cell_type": "markdown",
      "metadata": {
        "id": "v2lPf52jcFeq"
      },
      "source": [
        "<img src=\"https://github.com/skyezzzhang/machineintelligence/blob/master/img/neural_networks_23.png?raw=1\" alt=\"drawing\" width=\"650\"/>"
      ]
    },
    {
      "cell_type": "code",
      "execution_count": 40,
      "metadata": {
        "id": "VAWzgAPgcFer"
      },
      "outputs": [],
      "source": [
        "def sigmoid(x):\n",
        "    return 1 / (1 + np.exp(-x))\n",
        "\n",
        "def create_meshgrid(data):\n",
        "    h = 0.02\n",
        "    x_min, x_max = data[:, 0].min() - 1, data[:, 0].max() + 1\n",
        "    y_min, y_max = data[:, 1].min() - 1, data[:, 1].max() + 1\n",
        "    xx, yy = np.meshgrid(np.arange(x_min, x_max, h), np.arange(y_min, y_max, h))\n",
        "    return (xx,yy,np.ones(xx.shape))\n",
        "\n",
        "def eval_accuracy_neural(params, data, labels):\n",
        "    A1, A2, A3, B1, B2, B3, C1, C2, C3 = params\n",
        "    num_correct = 0;\n",
        "    data_len = len(data)\n",
        "\n",
        "    for (X,Y), true_label in zip(data, labels):\n",
        "        output = sigmoid(A3*sigmoid(A1*X + B1*Y + C1) + B3*sigmoid(A2*X + B2*Y + C2) + C3)\n",
        "        predicted_label = 1 if output >= 0.5 else 0\n",
        "\n",
        "        if (predicted_label == true_label):\n",
        "            num_correct += 1\n",
        "    return num_correct / data_len\n",
        "\n",
        "def plot_neural_simple(params, grid,data, labels, iteration, accuracy):\n",
        "    nudge = 0.06\n",
        "    A1, A2, A3, B1, B2, B3, C1, C2, C3 = params\n",
        "    xx,yy,Z = grid\n",
        "\n",
        "    for i in range(xx.shape[0]): # row\n",
        "        for j in range(yy.shape[1]): #column\n",
        "            X, Y = xx[i][j],yy[i][j]\n",
        "            output = sigmoid(A3*sigmoid(A1*X + B1*Y + C1) + B3*sigmoid(A2*X + B2*Y + C2) + C3)\n",
        "            predicted_label = 1 if output >= 0.5 else 0\n",
        "            Z[i][j] = predicted_label\n",
        "\n",
        "    fig = plt.figure(figsize=(5,5))\n",
        "    ax = fig.add_subplot(111)\n",
        "    plt.title(f'accuracy at the iteration {iteration}: {accuracy}')\n",
        "    ax.contourf(xx, yy, Z, cmap=plt.cm.binary, alpha=0.1, zorder=15)\n",
        "    ax.scatter(data[:, 0], data[:, 1], c=labels, s=50,  cmap=plt.cm.bwr,zorder=50)\n",
        "    ax.set_aspect('equal')\n",
        "    for i, d in enumerate(data):\n",
        "        ax.annotate(f'{i}',(d[0]+nudge,d[1]+nudge))\n",
        "    plt.xlim(xx.min(), xx.max())\n",
        "    plt.ylim(yy.min(), yy.max())\n",
        "    plt.show()"
      ]
    },
    {
      "cell_type": "markdown",
      "metadata": {
        "id": "r9jpcd0KcFer"
      },
      "source": [
        "The algorithm:"
      ]
    },
    {
      "cell_type": "code",
      "execution_count": 48,
      "metadata": {
        "code_folding": [
          80,
          87,
          102
        ],
        "scrolled": false,
        "id": "cM2yYE2fcFes"
      },
      "outputs": [],
      "source": [
        "def train_neural_network(data, labels, step_size, no_epochs, iter_info):\n",
        "    rnd = np.random.normal(size=9)\n",
        "    data_length = len(data)\n",
        "\n",
        "    # hidden layer neuron 1\n",
        "    A1, B1, C1 = rnd[0], rnd[1], rnd[2]\n",
        "\n",
        "    # hidden layer neuron 2\n",
        "    A2, B2, C2 = rnd[3], rnd[4], rnd[5]\n",
        "\n",
        "    # output layer neuron\n",
        "    A3, B3, C3 = rnd[6], rnd[7], rnd[8]\n",
        "\n",
        "    grid = create_meshgrid(data)\n",
        "\n",
        "    for i in range(no_epochs):\n",
        "        total_cost = 0.0\n",
        "        tempdA1, tempdA2, tempdA3, tempdB1, tempdB2, tempdB3, tempdC1, tempdC2, tempdC3 = np.zeros(9)\n",
        "        for (X, Y), label in zip(data, labels):\n",
        "            # forward pass\n",
        "            N1 = sigmoid(A1*X + B1*Y + C1) # 1st neuron\n",
        "            N2 = sigmoid(A2*X + B2*Y + C2) # 2nd neuron\n",
        "            z3 = A3*N1 + B3*N2 + C3\n",
        "            S = sigmoid(z3) # final activation\n",
        "            C = (label - S) **2 # cost for a single data point\n",
        "            total_cost += C\n",
        "\n",
        "            #backward pass\n",
        "            dz3 = -2 * (label - S) * S * (1 - S)\n",
        "            dA3, dB3, dC3 = N1 * dz3, N2 * dz3, dz3\n",
        "\n",
        "            dz1 = dz3 * A3 * N1 * (1 - N1)\n",
        "            dA1, dB1, dC1 = X * dz1, Y * dz1, dz1\n",
        "\n",
        "            dz2 = dz3 * B3 * N2 * (1 - N2)\n",
        "            dA2, dB2, dC2 = X * dz2, Y * dz2, dz2\n",
        "\n",
        "            tempdA1+= dA1\n",
        "            tempdA2+= dA2\n",
        "            tempdA3+= dA3\n",
        "            tempdB1+= dB1\n",
        "            tempdB2+= dB2\n",
        "            tempdB3+= dB3\n",
        "            tempdC1+= dC1\n",
        "            tempdC2+= dC2\n",
        "            tempdC3+= dC3\n",
        "\n",
        "        tempdA1/= data_length\n",
        "        tempdA2/= data_length\n",
        "        tempdA3/= data_length\n",
        "        tempdB1/= data_length\n",
        "        tempdB2/= data_length\n",
        "        tempdB3/= data_length\n",
        "        tempdC1/= data_length\n",
        "        tempdC2/= data_length\n",
        "        tempdC3/= data_length\n",
        "\n",
        "        # finally, do the parameter update\n",
        "        A1 -= tempdA1 * step_size\n",
        "        B1 -= tempdB1 * step_size\n",
        "        C1 -= tempdC1 * step_size\n",
        "        A2 -= tempdA2 * step_size\n",
        "        B2 -= tempdB2 * step_size\n",
        "        C2 -= tempdC2 * step_size\n",
        "        A3 -= tempdA3 * step_size\n",
        "        B3 -= tempdB3 * step_size\n",
        "        C3 -= tempdC3 * step_size\n",
        "\n",
        "        params = A1, A2, A3, B1, B2, B3, C1, C2, C3\n",
        "\n",
        "        if (i%iter_info==0):\n",
        "            #accuracy = eval_accuracy_neural(params,data,labels)\n",
        "            #plot_neural_simple(params,grid, data, labels, i, accuracy)\n",
        "            print(f'total_cost:{total_cost}')\n",
        "\n",
        "    return (A1, A2, A3, B1, B2, B3, C1, C2, C3)"
      ]
    },
    {
      "cell_type": "code",
      "execution_count": 51,
      "metadata": {
        "scrolled": false,
        "colab": {
          "base_uri": "https://localhost:8080/"
        },
        "id": "C14UAYlQcFet",
        "outputId": "9e10f5cc-1370-4368-c6c0-5501b4f9e90b"
      },
      "outputs": [
        {
          "output_type": "stream",
          "name": "stdout",
          "text": [
            "total_cost:3.162491750436644\n",
            "total_cost:2.1597811472301642\n",
            "total_cost:1.943650364416057\n",
            "total_cost:1.8219232085080685\n",
            "total_cost:1.729769897990657\n",
            "total_cost:1.6463979546390433\n",
            "total_cost:1.5647043076369407\n",
            "total_cost:1.4848623598550037\n",
            "total_cost:1.4095032544208412\n",
            "total_cost:1.3401188752935047\n",
            "total_cost:1.2766551957073091\n",
            "total_cost:1.2186193564844991\n",
            "total_cost:1.1656370490278407\n",
            "total_cost:1.1174421426228818\n",
            "total_cost:1.0737471617443413\n",
            "total_cost:1.0341682335692295\n",
            "total_cost:0.9982111031737456\n",
            "total_cost:0.9652892359843046\n",
            "total_cost:0.9347514396024732\n",
            "total_cost:0.9059099487016153\n",
            "total_cost:0.8780729010623508\n",
            "total_cost:0.8505952450201089\n",
            "total_cost:0.8229631393638311\n",
            "total_cost:0.7949052723256198\n",
            "total_cost:0.7664753896867034\n",
            "total_cost:0.738018706725966\n",
            "total_cost:0.7099996376572506\n",
            "total_cost:0.6827984115078258\n",
            "total_cost:0.656613395597692\n",
            "total_cost:0.6314910092438979\n",
            "total_cost:0.6074039975754433\n",
            "total_cost:0.5843084219668895\n",
            "total_cost:0.5621656114779614\n",
            "total_cost:0.5409442369716833\n",
            "total_cost:0.520616767689312\n",
            "total_cost:0.501156346623149\n",
            "total_cost:0.48253521151312456\n",
            "total_cost:0.464724257216956\n",
            "total_cost:0.4476932033295937\n",
            "total_cost:0.4314110102342991\n",
            "total_cost:0.4158463491573109\n",
            "total_cost:0.4009680323908108\n",
            "total_cost:0.38674536563628825\n",
            "total_cost:0.37314841386157127\n",
            "total_cost:0.36014818668974913\n",
            "total_cost:0.34771675566402555\n",
            "total_cost:0.3358273174658004\n",
            "total_cost:0.32445421647361766\n",
            "total_cost:0.31357293822633275\n",
            "total_cost:0.3031600831492958\n",
            "total_cost:0.2931933277370162\n",
            "total_cost:0.2836513784691209\n",
            "total_cost:0.27451392214906833\n",
            "total_cost:0.2657615751033077\n",
            "total_cost:0.2573758327295193\n",
            "total_cost:0.24933902018653023\n",
            "total_cost:0.24163424452211374\n",
            "total_cost:0.23424534818789833\n",
            "total_cost:0.22715686364938004\n",
            "total_cost:0.2203539686268363\n",
            "total_cost:0.2138224413697698\n",
            "total_cost:0.20754861524867638\n",
            "total_cost:0.20151933182262122\n",
            "total_cost:0.19572189139091134\n",
            "total_cost:0.19014399984473765\n",
            "total_cost:0.18477371038261184\n",
            "total_cost:0.17959935832385956\n",
            "total_cost:0.17460948682954294\n",
            "total_cost:0.1697927608050382\n",
            "total_cost:0.16513786560829252\n",
            "total_cost:0.1606333864438589\n",
            "total_cost:0.15626766356577682\n",
            "total_cost:0.15202861784817737\n",
            "total_cost:0.1479035413704474\n",
            "total_cost:0.14387884935719505\n",
            "total_cost:0.13993979499497114\n",
            "total_cost:0.13607016087254217\n",
            "total_cost:0.132251966417053\n",
            "total_cost:0.12846528020098852\n",
            "total_cost:0.12468831418696176\n",
            "total_cost:0.12089811778289444\n",
            "total_cost:0.11707237445721154\n",
            "total_cost:0.11319294491384868\n",
            "total_cost:0.10925163385877415\n",
            "total_cost:0.10525769805036707\n",
            "total_cost:0.10124451559244761\n",
            "total_cost:0.09727052223416963\n",
            "total_cost:0.09341004771237146\n",
            "total_cost:0.08973553945059085\n",
            "total_cost:0.08629997310801987\n",
            "total_cost:0.08312861602022527\n",
            "total_cost:0.08022177375869172\n",
            "total_cost:0.0775633282549734\n",
            "total_cost:0.07512931888489328\n",
            "total_cost:0.07289388535412619\n",
            "total_cost:0.07083247983237448\n",
            "total_cost:0.06892321094135372\n",
            "total_cost:0.06714715980514643\n",
            "total_cost:0.06548821859556896\n",
            "total_cost:0.06393275087975286\n"
          ]
        }
      ],
      "source": [
        "train = train_neural_network(data, labels, 2, 1000,10)"
      ]
    },
    {
      "cell_type": "code",
      "execution_count": 52,
      "metadata": {
        "colab": {
          "base_uri": "https://localhost:8080/"
        },
        "id": "h-uINYeCcFet",
        "outputId": "d3112500-54a3-4980-a373-52883bde975e"
      },
      "outputs": [
        {
          "output_type": "stream",
          "name": "stdout",
          "text": [
            "data point 0: real label : 1, pred. label: 1, prediction correct: True\n",
            "data point 1: real label : 0, pred. label: 0, prediction correct: True\n",
            "data point 2: real label : 1, pred. label: 1, prediction correct: True\n",
            "data point 3: real label : 0, pred. label: 0, prediction correct: True\n",
            "data point 4: real label : 0, pred. label: 0, prediction correct: True\n",
            "data point 5: real label : 1, pred. label: 1, prediction correct: True\n",
            "data point 6: real label : 0, pred. label: 0, prediction correct: True\n",
            "data point 7: real label : 1, pred. label: 1, prediction correct: True\n",
            "data point 8: real label : 0, pred. label: 0, prediction correct: True\n",
            "data point 9: real label : 0, pred. label: 0, prediction correct: True\n"
          ]
        }
      ],
      "source": [
        "A1,A2,A3,B1,B2,B3,C1,C2,C3 = train\n",
        "for i, ((X,Y), label) in enumerate(zip(data, labels)):\n",
        "    output = sigmoid(A3*sigmoid(A1*X + B1*Y + C1) + B3*sigmoid(A2*X + B2*Y + C2) + C3)\n",
        "    predicted_label = 1 if output >= 0.5 else 0\n",
        "    print (f'''data point {i}: real label : {label}, pred. label: {predicted_label}, prediction correct: {(label==predicted_label)}''')"
      ]
    },
    {
      "cell_type": "markdown",
      "metadata": {
        "id": "b0YqGR2ccFet"
      },
      "source": [
        "#### Task 1:\n",
        "Modify the previous code by adding the sigmoid activation to the output neuron and implementing the MSE cost function:"
      ]
    },
    {
      "cell_type": "markdown",
      "metadata": {
        "id": "Dl9lNQFRcFeu"
      },
      "source": [
        "<img src=\"https://github.com/skyezzzhang/machineintelligence/blob/master/img/neural_networks_25c.png?raw=1\" alt=\"drawing\" width=\"900\"/>"
      ]
    },
    {
      "cell_type": "markdown",
      "metadata": {
        "id": "Lpu8nvQTcFeu"
      },
      "source": [
        "\\begin{align*}\n",
        "\\frac{\\partial C}{\\partial z_3}&=-2(label-S) \\cdot S(1-S) \\\\\\\\\n",
        "\\frac{\\partial z_3}{\\partial z_1}&=A_3 \\cdot N_1(1-N_1) \\\\\\\\\n",
        "\\frac{\\partial z_3}{\\partial z_2}&=B_3 \\cdot N_2(1-N_2)\n",
        "\\end{align*}"
      ]
    },
    {
      "cell_type": "code",
      "execution_count": null,
      "metadata": {
        "id": "w8l6Szo8cFev"
      },
      "outputs": [],
      "source": []
    },
    {
      "cell_type": "markdown",
      "metadata": {
        "id": "KPnAqjYAcFev"
      },
      "source": [
        "#### Task 2:\n",
        "Loop through all the data point once and for each point print the coordinates and the label:"
      ]
    },
    {
      "cell_type": "code",
      "execution_count": 23,
      "metadata": {
        "colab": {
          "base_uri": "https://localhost:8080/"
        },
        "id": "Ndxw4-YccFew",
        "outputId": "00ac09f7-5b12-419f-aa9d-2291ad447934"
      },
      "outputs": [
        {
          "output_type": "stream",
          "name": "stdout",
          "text": [
            "X:1.2, Y:0.7, label:1\n",
            "X:-0.3, Y:-0.5, label:0\n",
            "X:3.0, Y:0.1, label:1\n",
            "X:-0.1, Y:-1.0, label:0\n",
            "X:-0.0, Y:1.1, label:0\n",
            "X:2.1, Y:-1.3, label:1\n",
            "X:3.1, Y:-1.8, label:0\n",
            "X:1.1, Y:-0.1, label:1\n",
            "X:1.5, Y:-2.2, label:0\n",
            "X:4.0, Y:-1.0, label:0\n"
          ]
        }
      ],
      "source": [
        "for (X, Y), current_label in zip(data, labels):\n",
        "  print(f'X:{X}, Y:{Y}, label:{current_label}')"
      ]
    },
    {
      "cell_type": "markdown",
      "metadata": {
        "id": "oeMRjsOgcFew"
      },
      "source": [
        "#### Task 3:\n",
        "Loop through all the data three times. In each interation, print its index, and and for each point print the coordinates and the label:"
      ]
    },
    {
      "cell_type": "code",
      "execution_count": 28,
      "metadata": {
        "colab": {
          "base_uri": "https://localhost:8080/"
        },
        "id": "6Cz6nYUEcFew",
        "outputId": "a4afdb80-c116-4f58-8ecc-876ae96bcc53"
      },
      "outputs": [
        {
          "output_type": "stream",
          "name": "stdout",
          "text": [
            "index:0\n",
            "X:1.2, Y:0.7, label:1\n",
            "X:-0.3, Y:-0.5, label:0\n",
            "X:3.0, Y:0.1, label:1\n",
            "X:-0.1, Y:-1.0, label:0\n",
            "X:-0.0, Y:1.1, label:0\n",
            "X:2.1, Y:-1.3, label:1\n",
            "X:3.1, Y:-1.8, label:0\n",
            "X:1.1, Y:-0.1, label:1\n",
            "X:1.5, Y:-2.2, label:0\n",
            "X:4.0, Y:-1.0, label:0\n",
            "sumx:15.6, sumy:-6.0\n",
            "index:1\n",
            "X:1.2, Y:0.7, label:1\n",
            "X:-0.3, Y:-0.5, label:0\n",
            "X:3.0, Y:0.1, label:1\n",
            "X:-0.1, Y:-1.0, label:0\n",
            "X:-0.0, Y:1.1, label:0\n",
            "X:2.1, Y:-1.3, label:1\n",
            "X:3.1, Y:-1.8, label:0\n",
            "X:1.1, Y:-0.1, label:1\n",
            "X:1.5, Y:-2.2, label:0\n",
            "X:4.0, Y:-1.0, label:0\n",
            "sumx:15.6, sumy:-6.0\n",
            "index:2\n",
            "X:1.2, Y:0.7, label:1\n",
            "X:-0.3, Y:-0.5, label:0\n",
            "X:3.0, Y:0.1, label:1\n",
            "X:-0.1, Y:-1.0, label:0\n",
            "X:-0.0, Y:1.1, label:0\n",
            "X:2.1, Y:-1.3, label:1\n",
            "X:3.1, Y:-1.8, label:0\n",
            "X:1.1, Y:-0.1, label:1\n",
            "X:1.5, Y:-2.2, label:0\n",
            "X:4.0, Y:-1.0, label:0\n",
            "sumx:15.6, sumy:-6.0\n"
          ]
        }
      ],
      "source": [
        "for i in range(3):\n",
        "    sumx, sumy = 0,0\n",
        "    print(f'index:{i}')\n",
        "    for (X, Y), current_label in zip(data, labels):\n",
        "        sumx +=X\n",
        "        sumy +=Y\n",
        "        print(f'X:{X}, Y:{Y}, label:{current_label}')\n",
        "    print(f'sumx:{sumx}, sumy:{sumy}')"
      ]
    },
    {
      "cell_type": "markdown",
      "metadata": {
        "id": "YRGq9RsOcFex"
      },
      "source": [
        "#### Task 4:\n",
        "Modify the previous code by cumulatively summing `x` and `y` coordinates in each loop. Sum `x`'s in`sumx`and `y`'s in `sumy`. After each loop print the sum."
      ]
    },
    {
      "cell_type": "code",
      "execution_count": null,
      "metadata": {
        "id": "z-C0XC28cFex"
      },
      "outputs": [],
      "source": []
    },
    {
      "cell_type": "markdown",
      "metadata": {
        "id": "f5KoQvkScFex"
      },
      "source": [
        "#### Task 5:\n",
        "Modify the classification algorithm by introducing epochs and full-batch training (updating the weights and biases only after the neural network has seen all the data points once)"
      ]
    },
    {
      "cell_type": "code",
      "execution_count": null,
      "metadata": {
        "id": "Bzex7FTDcFey"
      },
      "outputs": [],
      "source": []
    }
  ],
  "metadata": {
    "kernelspec": {
      "display_name": "Python 3",
      "language": "python",
      "name": "python3"
    },
    "language_info": {
      "codemirror_mode": {
        "name": "ipython",
        "version": 3
      },
      "file_extension": ".py",
      "mimetype": "text/x-python",
      "name": "python",
      "nbconvert_exporter": "python",
      "pygments_lexer": "ipython3",
      "version": "3.7.0"
    },
    "colab": {
      "provenance": [],
      "include_colab_link": true
    }
  },
  "nbformat": 4,
  "nbformat_minor": 0
}