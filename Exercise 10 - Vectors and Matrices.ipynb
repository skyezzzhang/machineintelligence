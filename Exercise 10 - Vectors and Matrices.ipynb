{
  "cells": [
    {
      "cell_type": "markdown",
      "metadata": {
        "id": "view-in-github",
        "colab_type": "text"
      },
      "source": [
        "<a href=\"https://colab.research.google.com/github/skyezzzhang/machineintelligence/blob/master/Exercise%2010%20-%20Vectors%20and%20Matrices.ipynb\" target=\"_parent\"><img src=\"https://colab.research.google.com/assets/colab-badge.svg\" alt=\"Open In Colab\"/></a>"
      ]
    },
    {
      "cell_type": "markdown",
      "metadata": {
        "id": "dptL4pXjfa-y"
      },
      "source": [
        "# Introduction to Linear Algebra"
      ]
    },
    {
      "cell_type": "markdown",
      "metadata": {
        "id": "Ae4EJ4nZfa-3"
      },
      "source": [
        "## Vectors"
      ]
    },
    {
      "cell_type": "markdown",
      "metadata": {
        "id": "oed0qQuOfa-4"
      },
      "source": [
        "#### Representing vectors in Python"
      ]
    },
    {
      "cell_type": "markdown",
      "metadata": {
        "id": "zOo6qiChfa-5"
      },
      "source": [
        "$$\\vec{a}=\\begin{bmatrix} 3\\\\4\\end{bmatrix}; \\quad\n",
        "\\vec{b}=\\begin{bmatrix} 2\\\\-1\\end{bmatrix}; \\quad\n",
        "\\vec{c}=\\begin{bmatrix} -3\\\\-3\\end{bmatrix}; \\quad\n",
        "\\vec{d}=\\begin{bmatrix} -2\\\\3\\end{bmatrix}; \\quad\n",
        "\\vec{e}=\\begin{bmatrix} 2\\\\3\\\\5\\end{bmatrix}\n",
        "$$"
      ]
    },
    {
      "cell_type": "markdown",
      "metadata": {
        "id": "IgdGf0JNfa-6"
      },
      "source": [
        "Import `numpy` library"
      ]
    },
    {
      "cell_type": "code",
      "execution_count": 13,
      "metadata": {
        "id": "ww-I30gZfa-6"
      },
      "outputs": [],
      "source": [
        "import numpy as np"
      ]
    },
    {
      "cell_type": "markdown",
      "metadata": {
        "id": "303YiRI3fa-7"
      },
      "source": [
        "By using the numpy *arrays*, represent the vectors $\\vec{a}$ to $\\vec{e}$"
      ]
    },
    {
      "cell_type": "code",
      "execution_count": 19,
      "metadata": {
        "id": "uS-DvtAYfa-8"
      },
      "outputs": [],
      "source": [
        "a = np.array([[3], [4]])\n",
        "\n",
        "b = np.array([[2], [-1]])\n",
        "\n",
        "c = np.array([[-3], [-3]])\n",
        "\n",
        "d = np.array([[-2], [3]])\n",
        "\n",
        "e = np.array([[2], [3], [5]])"
      ]
    },
    {
      "cell_type": "markdown",
      "metadata": {
        "id": "8Z085G6Efa-8"
      },
      "source": [
        "Print the values of some of the vectors to make sure they match the definition:"
      ]
    },
    {
      "cell_type": "code",
      "execution_count": 20,
      "metadata": {
        "id": "nZd8W7rEfa-9",
        "outputId": "c84505fe-1216-462b-f935-8368dd7252e9",
        "colab": {
          "base_uri": "https://localhost:8080/"
        }
      },
      "outputs": [
        {
          "output_type": "stream",
          "name": "stdout",
          "text": [
            "[[2]\n",
            " [3]\n",
            " [5]]\n"
          ]
        }
      ],
      "source": [
        "print(e)"
      ]
    },
    {
      "cell_type": "markdown",
      "metadata": {
        "id": "iu2nGlqQfa-9"
      },
      "source": [
        "Use NumPy's built-in function `linalg.norm` to compute the length of the vectors $\\vec{a}$ and $\\vec{e}$:"
      ]
    },
    {
      "cell_type": "code",
      "execution_count": 22,
      "metadata": {
        "id": "iz8AFM-dfa--",
        "outputId": "e8105e9c-9b0e-4e8c-cbbd-bc7a4a4bce9c",
        "colab": {
          "base_uri": "https://localhost:8080/"
        }
      },
      "outputs": [
        {
          "output_type": "execute_result",
          "data": {
            "text/plain": [
              "6.164414002968976"
            ]
          },
          "metadata": {},
          "execution_count": 22
        }
      ],
      "source": [
        "np.linalg.norm(e)"
      ]
    },
    {
      "cell_type": "markdown",
      "metadata": {
        "id": "1Zkz1rbzfa--"
      },
      "source": [
        "### Vector Operations"
      ]
    },
    {
      "cell_type": "markdown",
      "metadata": {
        "id": "_TaYJ3Lcfa-_"
      },
      "source": [
        "##### Adding, subtracting and multiplying vectors by using code"
      ]
    },
    {
      "cell_type": "markdown",
      "metadata": {
        "id": "Ic9_FLWTfa-_"
      },
      "source": [
        "Add the vectors $\\vec{a}$ and $\\vec{b}$:"
      ]
    },
    {
      "cell_type": "code",
      "execution_count": null,
      "metadata": {
        "id": "vdgLry_Ufa-_"
      },
      "outputs": [],
      "source": []
    },
    {
      "cell_type": "markdown",
      "metadata": {
        "id": "JRliTloIfa-_"
      },
      "source": [
        "Print the result of the addition:"
      ]
    },
    {
      "cell_type": "code",
      "execution_count": null,
      "metadata": {
        "id": "Wwrc3SWEfa-_"
      },
      "outputs": [],
      "source": []
    },
    {
      "cell_type": "markdown",
      "metadata": {
        "id": "LXk8W-rCfa_A"
      },
      "source": [
        "Subtract vector $\\vec{b}$ from $\\vec{a}$:"
      ]
    },
    {
      "cell_type": "code",
      "execution_count": null,
      "metadata": {
        "id": "VQa1qK4dfa_A"
      },
      "outputs": [],
      "source": []
    },
    {
      "cell_type": "markdown",
      "metadata": {
        "id": "Jw7fud1vfa_A"
      },
      "source": [
        "Multiply the vector $\\vec{a}$ by some number (scalar):"
      ]
    },
    {
      "cell_type": "code",
      "execution_count": null,
      "metadata": {
        "id": "uLfdcKCHfa_A"
      },
      "outputs": [],
      "source": []
    },
    {
      "cell_type": "markdown",
      "metadata": {
        "id": "lCRu1dx3fa_A"
      },
      "source": [
        "##### Multiplying vectors elementwise"
      ]
    },
    {
      "cell_type": "markdown",
      "metadata": {
        "id": "-D1II6JMfa_A"
      },
      "source": [
        "Multiply vectors $\\vec{a}$ and $\\vec{b}$ elementwise:"
      ]
    },
    {
      "cell_type": "code",
      "execution_count": null,
      "metadata": {
        "id": "efkt8iAlfa_A"
      },
      "outputs": [],
      "source": []
    },
    {
      "cell_type": "markdown",
      "metadata": {
        "id": "05wVCa2dfa_A"
      },
      "source": [
        "##### Computing the dot product by using code"
      ]
    },
    {
      "cell_type": "markdown",
      "metadata": {
        "id": "kVPkb-_dfa_B"
      },
      "source": [
        "Compute the dot product of $\\vec{a}$ and $\\vec{b}$ by multipling two vectors elementwise and summing the multiples. For summing, use the NumPy function `np.sum`:"
      ]
    },
    {
      "cell_type": "code",
      "execution_count": null,
      "metadata": {
        "id": "PXeJf1pYfa_B"
      },
      "outputs": [],
      "source": []
    },
    {
      "cell_type": "markdown",
      "metadata": {
        "id": "TG9Q2Eiffa_B"
      },
      "source": [
        "Apply the last operaton to compute the length of the vector $\\vec{a}$ instead of using the function `linalg.norm`:"
      ]
    },
    {
      "cell_type": "code",
      "execution_count": null,
      "metadata": {
        "id": "9z1_YXp_fa_B"
      },
      "outputs": [],
      "source": []
    },
    {
      "cell_type": "markdown",
      "metadata": {
        "id": "sdoFAb5Lfa_B"
      },
      "source": [
        "## Matrices"
      ]
    },
    {
      "cell_type": "markdown",
      "metadata": {
        "id": "v3A_ZTftfa_B"
      },
      "source": [
        "This is part of a broader convention of orderly arranging numbers in a rectangular, table-like structure called a __matrix__. A variable containing a vector is represented with a small letter and an arrow above it. A variable containing a matrix is conventionally represented with a capital letter. For example, M is a matrix containing 12 numbers arranged in a particular way."
      ]
    },
    {
      "cell_type": "markdown",
      "metadata": {
        "id": "IVgjrqpkfa_B"
      },
      "source": [
        "$$M_{3\\times4}=\\underset{\\;\\\\\\mathbf{3 \\, rows \\, \\times \\, 4 \\, \\text{columns}}}{\\begin{bmatrix} 1 & 3 & -2 & 4\\\\2 & 3 & -1 & -1\\\\ -1 & 1 & 3 & 4\\end{bmatrix}}$$"
      ]
    },
    {
      "cell_type": "markdown",
      "metadata": {
        "id": "_MEv6weNfa_C"
      },
      "source": [
        "### Elementary Matrix Operations in Python"
      ]
    },
    {
      "cell_type": "markdown",
      "metadata": {
        "id": "fgQkvqV9fa_C"
      },
      "source": [
        "Let us define matrices $A$, $B$ and $C$ as follows:"
      ]
    },
    {
      "cell_type": "markdown",
      "metadata": {
        "id": "p7EoY_mCfa_C"
      },
      "source": [
        "$$\n",
        "A=\\begin{bmatrix}\n",
        "4 & 2 & -1 & 5 \\\\\n",
        "2 & 1 & 3 & -3 \\\\\n",
        "-2 & -3 & 1 & 4 \\\\\n",
        "\\end{bmatrix}; \\quad\n",
        "B=\\begin{bmatrix}\n",
        "-1 & 1 \\\\\n",
        "3 & -3 \\\\\n",
        "4 & -2 \\\\\n",
        "5 & 5 \\\\\n",
        "\\end{bmatrix}; \\quad\n",
        "C=\\begin{bmatrix}\n",
        "1 & 3  \\\\\n",
        "3 & -1 \\\\\n",
        "\\end{bmatrix}; \\quad\n",
        "D=\\begin{bmatrix}\n",
        "2 & 1  \\\\\n",
        "-1 & 2 \\\\\n",
        "\\end{bmatrix}\n",
        "$$"
      ]
    },
    {
      "cell_type": "markdown",
      "metadata": {
        "id": "hZtX1TZzfa_C"
      },
      "source": [
        "Use NumPy's data structure called array to represent matrix A:"
      ]
    },
    {
      "cell_type": "code",
      "execution_count": null,
      "metadata": {
        "id": "kBtng_G-fa_C"
      },
      "outputs": [],
      "source": []
    },
    {
      "cell_type": "markdown",
      "metadata": {
        "id": "uXACxv9Bfa_C"
      },
      "source": [
        "Here, we defined the other matrices:"
      ]
    },
    {
      "cell_type": "code",
      "execution_count": null,
      "metadata": {
        "id": "taobl012fa_J"
      },
      "outputs": [],
      "source": [
        "B = np.array([[-1,  1],\n",
        "              [ 3, -3],\n",
        "              [ 4, -2],\n",
        "              [ 5,  5]])"
      ]
    },
    {
      "cell_type": "code",
      "execution_count": null,
      "metadata": {
        "id": "Jz-UAy3Efa_K"
      },
      "outputs": [],
      "source": [
        "C = np.array([[-1,  3],\n",
        "              [ 3, -1]])"
      ]
    },
    {
      "cell_type": "code",
      "execution_count": null,
      "metadata": {
        "id": "E6wiCQiOfa_L"
      },
      "outputs": [],
      "source": [
        "D = np.array([[ 2, 1],\n",
        "              [-1, 2]])"
      ]
    },
    {
      "cell_type": "markdown",
      "metadata": {
        "id": "jJEGsVBifa_M"
      },
      "source": [
        "Print the variables containing the matrices to make sure they match the definition:"
      ]
    },
    {
      "cell_type": "code",
      "execution_count": null,
      "metadata": {
        "id": "B6Xd0Extfa_M"
      },
      "outputs": [],
      "source": []
    },
    {
      "cell_type": "markdown",
      "metadata": {
        "id": "QKLUINKGfa_N"
      },
      "source": [
        "#### Matrix Addition and Subtraction in Python"
      ]
    },
    {
      "cell_type": "markdown",
      "metadata": {
        "id": "ut0TE8tqfa_N"
      },
      "source": [
        "Add matrices $A$ and $B$ and analyse the result:"
      ]
    },
    {
      "cell_type": "code",
      "execution_count": null,
      "metadata": {
        "id": "-LrQpne6fa_N"
      },
      "outputs": [],
      "source": []
    },
    {
      "cell_type": "markdown",
      "metadata": {
        "id": "smwKePOwfa_O"
      },
      "source": [
        "Add the matrices $C$ and $D$:"
      ]
    },
    {
      "cell_type": "code",
      "execution_count": null,
      "metadata": {
        "id": "LTQcXKpmfa_O"
      },
      "outputs": [],
      "source": []
    },
    {
      "cell_type": "markdown",
      "metadata": {
        "id": "MOyp53P6fa_O"
      },
      "source": [
        "Add the matrix $A$ to itself:"
      ]
    },
    {
      "cell_type": "code",
      "execution_count": null,
      "metadata": {
        "id": "TQKI2fhNfa_O"
      },
      "outputs": [],
      "source": []
    },
    {
      "cell_type": "markdown",
      "metadata": {
        "id": "sVW2hUGdfa_P"
      },
      "source": [
        "#### Multiplying a Matrix by a Scalar in Python"
      ]
    },
    {
      "cell_type": "markdown",
      "metadata": {
        "id": "fQSPshopfa_P"
      },
      "source": [
        "Multiply the matrix $A$ by 5:"
      ]
    },
    {
      "cell_type": "code",
      "execution_count": null,
      "metadata": {
        "id": "loXmuMLAfa_P"
      },
      "outputs": [],
      "source": []
    },
    {
      "cell_type": "markdown",
      "metadata": {
        "id": "jRvyACB9fa_Q"
      },
      "source": [
        "Multiply the matrix $A$ by -5:"
      ]
    },
    {
      "cell_type": "code",
      "execution_count": null,
      "metadata": {
        "id": "Fxw_xQyyfa_Q"
      },
      "outputs": [],
      "source": []
    },
    {
      "cell_type": "markdown",
      "metadata": {
        "id": "JyE8f3nlfa_Q"
      },
      "source": [
        "#### Matrix Multiplication in Python"
      ]
    },
    {
      "cell_type": "markdown",
      "metadata": {
        "id": "7J8aPrdOfa_Q"
      },
      "source": [
        "Compute the matrix product $A\\times B$, by using the NumPy command `np.dot`, and analyse the result:"
      ]
    },
    {
      "cell_type": "code",
      "execution_count": null,
      "metadata": {
        "id": "pxHgTnatfa_Q"
      },
      "outputs": [],
      "source": []
    },
    {
      "cell_type": "markdown",
      "metadata": {
        "id": "RdY94ktefa_Q"
      },
      "source": [
        "Compute the matrix product $B\\times A$, and analyse the result:"
      ]
    },
    {
      "cell_type": "code",
      "execution_count": null,
      "metadata": {
        "id": "57D5Qf1zfa_R"
      },
      "outputs": [],
      "source": []
    },
    {
      "cell_type": "markdown",
      "metadata": {
        "id": "iYRn4nBBfa_R"
      },
      "source": [
        "Compute the matrix products $B\\times C$ and $B\\times D$:"
      ]
    },
    {
      "cell_type": "code",
      "execution_count": null,
      "metadata": {
        "id": "incIBye9fa_R"
      },
      "outputs": [],
      "source": []
    },
    {
      "cell_type": "markdown",
      "metadata": {
        "id": "XjQ_Knjkfa_R"
      },
      "source": [
        "Computing matrix products $C\\times D$ and $D\\times C$, and analyse the result:"
      ]
    },
    {
      "cell_type": "code",
      "execution_count": null,
      "metadata": {
        "id": "kZgmpLtBfa_R"
      },
      "outputs": [],
      "source": []
    }
  ],
  "metadata": {
    "kernelspec": {
      "display_name": "Python 3",
      "language": "python",
      "name": "python3"
    },
    "language_info": {
      "codemirror_mode": {
        "name": "ipython",
        "version": 3
      },
      "file_extension": ".py",
      "mimetype": "text/x-python",
      "name": "python",
      "nbconvert_exporter": "python",
      "pygments_lexer": "ipython3",
      "version": "3.7.0"
    },
    "colab": {
      "provenance": [],
      "include_colab_link": true
    }
  },
  "nbformat": 4,
  "nbformat_minor": 0
}